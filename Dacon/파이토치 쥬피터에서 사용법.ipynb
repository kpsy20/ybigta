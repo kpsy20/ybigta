{
 "cells": [
  {
   "cell_type": "markdown",
   "id": "alert-marking",
   "metadata": {},
   "source": [
    "먼저 가상환경을 만든다 \n",
    "\n",
    "conda create -n 이름 python=버전(3.7)"
   ]
  },
  {
   "cell_type": "markdown",
   "id": "comfortable-extension",
   "metadata": {},
   "source": [
    "그 다음 activate 이름\n",
    "\n",
    "그리고 pytorch 홈페이지 들어가서 쭈주죽 버전 맞추고\n",
    "\n",
    "conda install pytorch torchvision cudatoolkit=버전 -c pytorch"
   ]
  },
  {
   "cell_type": "markdown",
   "id": "statistical-flour",
   "metadata": {},
   "source": [
    "그 다음에 jupyter notebook 실행\n",
    "\n",
    "근데 이 때 계속 안되더라 그래서 아나콘다에서\n",
    "\n",
    "pip install jupyterlab\n",
    "\n",
    "하면 됨"
   ]
  },
  {
   "cell_type": "markdown",
   "id": "medical-briefs",
   "metadata": {},
   "source": [
    "그러면 이제 gpu도 인식하는 pytorch 사용 가능~"
   ]
  },
  {
   "cell_type": "code",
   "execution_count": 1,
   "id": "directed-fighter",
   "metadata": {
    "collapsed": true
   },
   "outputs": [
    {
     "data": {
      "text/plain": [
       "'\\nimport torch\\nimport glob\\nimport os\\nfrom torch.utils.data import Dataset, DataLoader\\nimport pandas as pd\\nimport cv2\\nfrom tqdm import tqdm\\nimport numpy as np\\nfrom torchvision import transforms\\nimport torchvision.models as models\\nimport torch.nn as nn\\nfrom torch.nn import functional as F\\nfrom sklearn.model_selection import KFold\\nimport time\\nfrom efficientnet_pytorch import EfficientNet\\nimport matplotlib.pyplot as plt\\nfrom torch_poly_lr_decay import PolynomialLRDecay\\nimport random\\n\\n\\ntorch.set_num_threads(1)\\ndevice = torch.device(\"cuda:0\" if torch.cuda.is_available() else \"cpu\")\\n'"
      ]
     },
     "execution_count": 1,
     "metadata": {},
     "output_type": "execute_result"
    }
   ],
   "source": [
    "'''\n",
    "import torch\n",
    "import glob\n",
    "import os\n",
    "from torch.utils.data import Dataset, DataLoader\n",
    "import pandas as pd\n",
    "import cv2\n",
    "from tqdm import tqdm\n",
    "import numpy as np\n",
    "from torchvision import transforms\n",
    "import torchvision.models as models\n",
    "import torch.nn as nn\n",
    "from torch.nn import functional as F\n",
    "from sklearn.model_selection import KFold\n",
    "import time\n",
    "from efficientnet_pytorch import EfficientNet\n",
    "import matplotlib.pyplot as plt\n",
    "from torch_poly_lr_decay import PolynomialLRDecay\n",
    "import random\n",
    "\n",
    "\n",
    "torch.set_num_threads(1)\n",
    "device = torch.device(\"cuda:0\" if torch.cuda.is_available() else \"cpu\")\n",
    "'''"
   ]
  },
  {
   "cell_type": "markdown",
   "id": "compressed-ordinary",
   "metadata": {},
   "source": [
    "이러고 device 쳤을 때 cuda나오면 성공"
   ]
  },
  {
   "cell_type": "code",
   "execution_count": null,
   "id": "recent-english",
   "metadata": {},
   "outputs": [],
   "source": []
  }
 ],
 "metadata": {
  "kernelspec": {
   "display_name": "Python 3",
   "language": "python",
   "name": "python3"
  },
  "language_info": {
   "codemirror_mode": {
    "name": "ipython",
    "version": 3
   },
   "file_extension": ".py",
   "mimetype": "text/x-python",
   "name": "python",
   "nbconvert_exporter": "python",
   "pygments_lexer": "ipython3",
   "version": "3.7.9"
  }
 },
 "nbformat": 4,
 "nbformat_minor": 5
}
